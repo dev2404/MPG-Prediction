{
 "cells": [
  {
   "cell_type": "code",
   "execution_count": 18,
   "metadata": {},
   "outputs": [],
   "source": [
    "import pandas as pd\n",
    "import numpy as np\n",
    "from sklearn import pipeline,preprocessing,metrics,model_selection,ensemble\n",
    "from sklearn_pandas import DataFrameMapper"
   ]
  },
  {
   "cell_type": "code",
   "execution_count": 22,
   "metadata": {},
   "outputs": [],
   "source": [
    "data=pd.read_csv('mpg_data_example.csv')\n"
   ]
  },
  {
   "cell_type": "code",
   "execution_count": 23,
   "metadata": {},
   "outputs": [
    {
     "data": {
      "text/html": [
       "<div>\n",
       "<style scoped>\n",
       "    .dataframe tbody tr th:only-of-type {\n",
       "        vertical-align: middle;\n",
       "    }\n",
       "\n",
       "    .dataframe tbody tr th {\n",
       "        vertical-align: top;\n",
       "    }\n",
       "\n",
       "    .dataframe thead th {\n",
       "        text-align: right;\n",
       "    }\n",
       "</style>\n",
       "<table border=\"1\" class=\"dataframe\">\n",
       "  <thead>\n",
       "    <tr style=\"text-align: right;\">\n",
       "      <th></th>\n",
       "      <th>mpg</th>\n",
       "      <th>cylinders</th>\n",
       "      <th>displacement</th>\n",
       "      <th>horsepower</th>\n",
       "      <th>weight</th>\n",
       "      <th>acceleration</th>\n",
       "      <th>model year</th>\n",
       "      <th>origin</th>\n",
       "      <th>car name</th>\n",
       "    </tr>\n",
       "  </thead>\n",
       "  <tbody>\n",
       "    <tr>\n",
       "      <td>0</td>\n",
       "      <td>18.0</td>\n",
       "      <td>8</td>\n",
       "      <td>307.0</td>\n",
       "      <td>130</td>\n",
       "      <td>3504</td>\n",
       "      <td>12.0</td>\n",
       "      <td>70</td>\n",
       "      <td>1</td>\n",
       "      <td>chevrolet chevelle malibu</td>\n",
       "    </tr>\n",
       "    <tr>\n",
       "      <td>1</td>\n",
       "      <td>15.0</td>\n",
       "      <td>8</td>\n",
       "      <td>350.0</td>\n",
       "      <td>165</td>\n",
       "      <td>3693</td>\n",
       "      <td>11.5</td>\n",
       "      <td>70</td>\n",
       "      <td>1</td>\n",
       "      <td>buick skylark 320</td>\n",
       "    </tr>\n",
       "    <tr>\n",
       "      <td>2</td>\n",
       "      <td>18.0</td>\n",
       "      <td>8</td>\n",
       "      <td>318.0</td>\n",
       "      <td>150</td>\n",
       "      <td>3436</td>\n",
       "      <td>11.0</td>\n",
       "      <td>70</td>\n",
       "      <td>1</td>\n",
       "      <td>plymouth satellite</td>\n",
       "    </tr>\n",
       "    <tr>\n",
       "      <td>3</td>\n",
       "      <td>16.0</td>\n",
       "      <td>8</td>\n",
       "      <td>304.0</td>\n",
       "      <td>150</td>\n",
       "      <td>3433</td>\n",
       "      <td>12.0</td>\n",
       "      <td>70</td>\n",
       "      <td>1</td>\n",
       "      <td>amc rebel sst</td>\n",
       "    </tr>\n",
       "    <tr>\n",
       "      <td>4</td>\n",
       "      <td>17.0</td>\n",
       "      <td>8</td>\n",
       "      <td>302.0</td>\n",
       "      <td>140</td>\n",
       "      <td>3449</td>\n",
       "      <td>10.5</td>\n",
       "      <td>70</td>\n",
       "      <td>1</td>\n",
       "      <td>ford torino</td>\n",
       "    </tr>\n",
       "  </tbody>\n",
       "</table>\n",
       "</div>"
      ],
      "text/plain": [
       "    mpg  cylinders  displacement horsepower  weight  acceleration  model year  \\\n",
       "0  18.0          8         307.0        130    3504          12.0          70   \n",
       "1  15.0          8         350.0        165    3693          11.5          70   \n",
       "2  18.0          8         318.0        150    3436          11.0          70   \n",
       "3  16.0          8         304.0        150    3433          12.0          70   \n",
       "4  17.0          8         302.0        140    3449          10.5          70   \n",
       "\n",
       "   origin                   car name  \n",
       "0       1  chevrolet chevelle malibu  \n",
       "1       1          buick skylark 320  \n",
       "2       1         plymouth satellite  \n",
       "3       1              amc rebel sst  \n",
       "4       1                ford torino  "
      ]
     },
     "execution_count": 23,
     "metadata": {},
     "output_type": "execute_result"
    }
   ],
   "source": [
    "data.head()\n"
   ]
  },
  {
   "cell_type": "code",
   "execution_count": 24,
   "metadata": {},
   "outputs": [
    {
     "data": {
      "text/plain": [
       "mpg             0\n",
       "cylinders       0\n",
       "displacement    0\n",
       "horsepower      0\n",
       "weight          0\n",
       "acceleration    0\n",
       "model year      0\n",
       "origin          0\n",
       "car name        0\n",
       "dtype: int64"
      ]
     },
     "execution_count": 24,
     "metadata": {},
     "output_type": "execute_result"
    }
   ],
   "source": [
    "data.isnull().sum()\n"
   ]
  },
  {
   "cell_type": "code",
   "execution_count": 35,
   "metadata": {},
   "outputs": [
    {
     "ename": "AttributeError",
     "evalue": "module 'sklearn.preprocessing' has no attribute 'SimpleImputer'",
     "output_type": "error",
     "traceback": [
      "\u001b[0;31m---------------------------------------------------------------------------\u001b[0m",
      "\u001b[0;31mAttributeError\u001b[0m                            Traceback (most recent call last)",
      "\u001b[0;32m<ipython-input-35-46f902c59f5c>\u001b[0m in \u001b[0;36m<module>\u001b[0;34m\u001b[0m\n\u001b[1;32m      1\u001b[0m mapper = DataFrameMapper([\n\u001b[1;32m      2\u001b[0m                         \u001b[0;34m(\u001b[0m\u001b[0;34m[\u001b[0m\u001b[0;34m'cylinders'\u001b[0m\u001b[0;34m,\u001b[0m\u001b[0;34m'displacement'\u001b[0m\u001b[0;34m,\u001b[0m\u001b[0;34m'weight'\u001b[0m\u001b[0;34m,\u001b[0m\u001b[0;34m'acceleration'\u001b[0m\u001b[0;34m,\u001b[0m\u001b[0;34m'model year'\u001b[0m\u001b[0;34m]\u001b[0m\u001b[0;34m,\u001b[0m \u001b[0mpreprocessing\u001b[0m\u001b[0;34m.\u001b[0m\u001b[0mStandardScaler\u001b[0m\u001b[0;34m(\u001b[0m\u001b[0;34m)\u001b[0m\u001b[0;34m)\u001b[0m\u001b[0;34m,\u001b[0m\u001b[0;34m\u001b[0m\u001b[0;34m\u001b[0m\u001b[0m\n\u001b[0;32m----> 3\u001b[0;31m                         \u001b[0;34m(\u001b[0m\u001b[0;34m[\u001b[0m\u001b[0;34m'horsepower'\u001b[0m\u001b[0;34m]\u001b[0m\u001b[0;34m,\u001b[0m\u001b[0mpreprocessing\u001b[0m\u001b[0;34m.\u001b[0m\u001b[0mSimpleImputer\u001b[0m\u001b[0;34m(\u001b[0m\u001b[0;34m)\u001b[0m\u001b[0;34m)\u001b[0m\u001b[0;34m,\u001b[0m\u001b[0;34m\u001b[0m\u001b[0;34m\u001b[0m\u001b[0m\n\u001b[0m\u001b[1;32m      4\u001b[0m                         \u001b[0;34m(\u001b[0m\u001b[0;34m[\u001b[0m\u001b[0;34m'origin'\u001b[0m\u001b[0;34m]\u001b[0m\u001b[0;34m,\u001b[0m \u001b[0mpreprocessing\u001b[0m\u001b[0;34m.\u001b[0m\u001b[0mOneHotEncoder\u001b[0m\u001b[0;34m(\u001b[0m\u001b[0;34m)\u001b[0m\u001b[0;34m)\u001b[0m\u001b[0;34m\u001b[0m\u001b[0;34m\u001b[0m\u001b[0m\n\u001b[1;32m      5\u001b[0m                         ])\n",
      "\u001b[0;31mAttributeError\u001b[0m: module 'sklearn.preprocessing' has no attribute 'SimpleImputer'"
     ]
    }
   ],
   "source": [
    "mapper = DataFrameMapper([\n",
    "                        (['cylinders','displacement','weight','acceleration','model year'], preprocessing.StandardScaler()),\n",
    "                        (['horsepower'],preprocessing.SimpleImputer()),\n",
    "                        (['origin'], preprocessing.OneHotEncoder())\n",
    "                        ])"
   ]
  },
  {
   "cell_type": "code",
   "execution_count": 26,
   "metadata": {},
   "outputs": [],
   "source": [
    "pipeline_obj = pipeline.Pipeline([\n",
    "    ('mapper',mapper),\n",
    "    (\"model\", ensemble.RandomForestRegressor())\n",
    "])"
   ]
  },
  {
   "cell_type": "code",
   "execution_count": 27,
   "metadata": {},
   "outputs": [
    {
     "data": {
      "text/plain": [
       "Index(['mpg', 'cylinders', 'displacement', 'horsepower', 'weight',\n",
       "       'acceleration', 'model year', 'origin', 'car name'],\n",
       "      dtype='object')"
      ]
     },
     "execution_count": 27,
     "metadata": {},
     "output_type": "execute_result"
    }
   ],
   "source": [
    "\n",
    "data.columns"
   ]
  },
  {
   "cell_type": "code",
   "execution_count": 41,
   "metadata": {},
   "outputs": [
    {
     "data": {
      "text/plain": [
       "mpg             float64\n",
       "cylinders         int64\n",
       "displacement    float64\n",
       "horsepower      float32\n",
       "weight            int64\n",
       "acceleration    float64\n",
       "model year        int64\n",
       "origin            int64\n",
       "car name         object\n",
       "dtype: object"
      ]
     },
     "execution_count": 41,
     "metadata": {},
     "output_type": "execute_result"
    }
   ],
   "source": [
    "data = data[data.horsepower != '?']\n",
    "\n",
    "data[\"horsepower\"] = pd.to_numeric(data[\"horsepower\"], downcast=\"float\")\n",
    "data.dtypes"
   ]
  },
  {
   "cell_type": "code",
   "execution_count": 42,
   "metadata": {},
   "outputs": [],
   "source": [
    "X=['cylinders', 'displacement', 'horsepower', 'weight',\n",
    "       'acceleration', 'model year', 'origin']\n",
    "Y=['mpg']"
   ]
  },
  {
   "cell_type": "code",
   "execution_count": 43,
   "metadata": {},
   "outputs": [
    {
     "name": "stderr",
     "output_type": "stream",
     "text": [
      "/home/dev/anaconda3/lib/python3.7/site-packages/sklearn/preprocessing/_encoders.py:415: FutureWarning: The handling of integer data will change in version 0.22. Currently, the categories are determined based on the range [0, max(values)], while in the future they will be determined based on the unique values.\n",
      "If you want the future behaviour and silence this warning, you can specify \"categories='auto'\".\n",
      "In case you used a LabelEncoder before this OneHotEncoder to convert the categories to integers, then you can now use the OneHotEncoder directly.\n",
      "  warnings.warn(msg, FutureWarning)\n",
      "/home/dev/anaconda3/lib/python3.7/site-packages/sklearn/ensemble/forest.py:245: FutureWarning: The default value of n_estimators will change from 10 in version 0.20 to 100 in 0.22.\n",
      "  \"10 in version 0.20 to 100 in 0.22.\", FutureWarning)\n",
      "/home/dev/anaconda3/lib/python3.7/site-packages/sklearn/pipeline.py:356: DataConversionWarning: A column-vector y was passed when a 1d array was expected. Please change the shape of y to (n_samples,), for example using ravel().\n",
      "  self._final_estimator.fit(Xt, y, **fit_params)\n"
     ]
    },
    {
     "data": {
      "text/plain": [
       "Pipeline(memory=None,\n",
       "         steps=[('mapper',\n",
       "                 DataFrameMapper(default=False, df_out=False,\n",
       "                                 features=[(['cylinders', 'displacement',\n",
       "                                             'weight', 'acceleration',\n",
       "                                             'model year'],\n",
       "                                            StandardScaler(copy=True,\n",
       "                                                           with_mean=True,\n",
       "                                                           with_std=True)),\n",
       "                                           (['horsepower'],\n",
       "                                            Imputer(axis=0, copy=True,\n",
       "                                                    missing_values='NaN',\n",
       "                                                    strategy='mean',\n",
       "                                                    verbose=0)),\n",
       "                                           (['origin'],\n",
       "                                            OneHotEncoder(categorical_features=...\n",
       "                                 input_df=False, sparse=False)),\n",
       "                ('model',\n",
       "                 RandomForestRegressor(bootstrap=True, criterion='mse',\n",
       "                                       max_depth=None, max_features='auto',\n",
       "                                       max_leaf_nodes=None,\n",
       "                                       min_impurity_decrease=0.0,\n",
       "                                       min_impurity_split=None,\n",
       "                                       min_samples_leaf=1, min_samples_split=2,\n",
       "                                       min_weight_fraction_leaf=0.0,\n",
       "                                       n_estimators=10, n_jobs=None,\n",
       "                                       oob_score=False, random_state=None,\n",
       "                                       verbose=0, warm_start=False))],\n",
       "         verbose=False)"
      ]
     },
     "execution_count": 43,
     "metadata": {},
     "output_type": "execute_result"
    }
   ],
   "source": [
    "pipeline_obj.fit(data[X],data[Y])\n"
   ]
  },
  {
   "cell_type": "code",
   "execution_count": 44,
   "metadata": {},
   "outputs": [
    {
     "data": {
      "text/plain": [
       "array([17.61, 14.8 , 18.  , 16.6 , 17.2 , 14.5 , 14.  , 14.1 , 13.7 ,\n",
       "       13.9 , 15.1 , 14.3 , 15.4 , 14.  , 24.1 , 21.9 , 19.3 , 20.7 ,\n",
       "       27.  , 26.1 , 24.3 , 24.7 , 24.5 , 24.1 , 20.7 , 10.7 , 10.  ,\n",
       "       10.7 ,  9.2 , 27.  , 26.5 , 24.72, 19.1 , 17.05, 17.6 , 19.  ,\n",
       "       18.2 , 13.9 , 14.1 , 14.1 , 14.2 , 12.4 , 12.9 , 12.9 , 18.61,\n",
       "       22.1 , 18.7 , 18.7 , 23.2 , 27.3 , 29.3 , 28.45, 31.2 , 33.2 ,\n",
       "       26.6 , 26.4 , 24.84, 26.4 , 23.1 , 20.5 , 21.9 , 13.4 , 13.3 ,\n",
       "       14.8 , 14.4 , 15.2 , 11.8 , 12.9 , 12.4 , 12.9 , 19.8 , 15.4 ,\n",
       "       13.65, 13.6 , 14.  , 18.96, 22.  , 21.  , 25.55, 22.5 , 26.3 ,\n",
       "       22.1 , 26.6 , 27.3 , 13.25, 14.3 , 13.8 , 13.85, 14.3 , 12.2 ,\n",
       "       13.5 , 13.2 , 14.2 , 12.8 , 12.3 , 12.9 , 18.65, 16.15, 18.3 ,\n",
       "       19.45, 22.2 , 26.8 , 11.9 , 12.4 , 12.9 , 12.3 , 18.4 , 23.4 ,\n",
       "       21.3 , 23.4 , 22.6 , 20.8 , 22.3 , 25.8 , 14.6 , 14.8 , 28.1 ,\n",
       "       24.6 , 22.1 , 20.16, 14.8 , 23.8 , 19.73, 11.4 , 20.  , 19.1 ,\n",
       "       16.45, 31.2 , 25.5 , 31.6 , 24.95, 16.1 , 16.  , 17.25, 15.5 ,\n",
       "       13.3 , 13.7 , 14.2 , 13.8 , 28.1 , 27.4 , 25.8 , 31.5 , 31.7 ,\n",
       "       27.6 , 27.4 , 25.4 , 24.1 , 25.2 , 28.9 , 19.39, 18.15, 15.2 ,\n",
       "       15.25, 15.3 , 15.  , 15.2 , 13.95, 17.1 , 16.2 , 15.2 , 17.6 ,\n",
       "       19.95, 19.9 , 14.67, 28.1 , 23.48, 19.7 , 23.2 , 24.6 , 25.6 ,\n",
       "       24.1 , 18.4 , 28.7 , 19.19, 23.4 , 22.9 , 21.46, 24.3 , 32.5 ,\n",
       "       26.8 , 24.5 , 25.35, 26.4 , 27.1 , 16.85, 15.5 , 16.  , 14.65,\n",
       "       21.3 , 21.  , 22.43, 21.95, 29.35, 26.9 , 29.  , 32.5 , 18.8 ,\n",
       "       18.05, 18.4 , 18.29, 29.4 , 31.  , 28.  , 25.7 , 20.2 , 13.3 ,\n",
       "       20.4 , 19.73, 17.05, 14.4 , 14.1 , 13.7 , 13.  , 31.44, 29.74,\n",
       "       35.68, 25.45, 33.25, 17.6 , 16.8 , 16.05, 15.15, 18.02, 20.51,\n",
       "       18.81, 18.25, 15.75, 15.84, 15.7 , 15.64, 31.3 , 24.9 , 27.73,\n",
       "       24.94, 32.73, 33.5 , 30.56, 30.73, 22.2 , 22.2 , 24.24, 41.49,\n",
       "       36.1 , 36.24, 36.27, 36.39, 19.36, 19.17, 18.92, 19.12, 20.4 ,\n",
       "       20.46, 25.46, 20.16, 19.62, 20.69, 20.74, 18.6 , 18.17, 19.05,\n",
       "       17.86, 18.35, 17.3 , 30.88, 26.9 , 27.25, 30.63, 21.74, 23.33,\n",
       "       23.87, 24.61, 20.8 , 17.85, 21.1 , 16.85, 32.25, 31.33, 21.16,\n",
       "       19.94, 24.61, 19.81, 20.69, 17.99, 18.04, 17.92, 18.56, 16.14,\n",
       "       15.8 , 20.95, 18.11, 36.17, 33.61, 35.99, 28.4 , 25.55, 21.87,\n",
       "       28.23, 21.47, 34.18, 35.56, 34.54, 37.72, 28.83, 27.98, 24.71,\n",
       "       32.93, 40.08, 38.03, 32.94, 37.68, 28.08, 25.87, 26.74, 19.38,\n",
       "       34.42, 30.16, 31.  , 34.91, 32.61, 42.17, 27.06, 40.3 , 43.39,\n",
       "       39.17, 31.29, 29.88, 39.52, 33.89, 33.03, 29.39, 27.3 , 33.79,\n",
       "       32.27, 28.9 , 27.36, 26.91, 24.01, 30.84, 38.63, 37.8 , 36.94,\n",
       "       33.07, 36.98, 37.55, 33.45, 37.03, 34.17, 33.3 , 33.3 , 34.42,\n",
       "       32.38, 31.88, 29.94, 28.59, 28.37, 24.9 , 26.26, 21.89, 24.97,\n",
       "       20.64, 19.9 , 28.46, 27.46, 33.7 , 30.7 , 29.92, 27.1 , 24.43,\n",
       "       35.03, 35.66, 33.81, 38.5 , 35.11, 34.56, 35.24, 33.7 , 36.1 ,\n",
       "       34.9 , 36.8 , 26.1 , 30.57, 27.15, 23.89, 30.02, 33.8 , 26.23,\n",
       "       27.19, 41.56, 31.37, 27.66, 29.54])"
      ]
     },
     "execution_count": 44,
     "metadata": {},
     "output_type": "execute_result"
    }
   ],
   "source": [
    "pipeline_obj.predict(data[X])\n"
   ]
  },
  {
   "cell_type": "code",
   "execution_count": 45,
   "metadata": {},
   "outputs": [],
   "source": [
    "from sklearn.externals import joblib\n"
   ]
  },
  {
   "cell_type": "code",
   "execution_count": 46,
   "metadata": {},
   "outputs": [
    {
     "data": {
      "text/plain": [
       "['RFModelforMPG.pkl']"
      ]
     },
     "execution_count": 46,
     "metadata": {},
     "output_type": "execute_result"
    }
   ],
   "source": [
    "joblib.dump(pipeline_obj,'RFModelforMPG.pkl')\n"
   ]
  },
  {
   "cell_type": "code",
   "execution_count": 47,
   "metadata": {},
   "outputs": [],
   "source": [
    "modelReload=joblib.load('RFModelforMPG.pkl')\n"
   ]
  },
  {
   "cell_type": "code",
   "execution_count": 48,
   "metadata": {},
   "outputs": [
    {
     "data": {
      "text/plain": [
       "array([17.61, 14.8 , 18.  , 16.6 , 17.2 , 14.5 , 14.  , 14.1 , 13.7 ,\n",
       "       13.9 , 15.1 , 14.3 , 15.4 , 14.  , 24.1 , 21.9 , 19.3 , 20.7 ,\n",
       "       27.  , 26.1 , 24.3 , 24.7 , 24.5 , 24.1 , 20.7 , 10.7 , 10.  ,\n",
       "       10.7 ,  9.2 , 27.  , 26.5 , 24.72, 19.1 , 17.05, 17.6 , 19.  ,\n",
       "       18.2 , 13.9 , 14.1 , 14.1 , 14.2 , 12.4 , 12.9 , 12.9 , 18.61,\n",
       "       22.1 , 18.7 , 18.7 , 23.2 , 27.3 , 29.3 , 28.45, 31.2 , 33.2 ,\n",
       "       26.6 , 26.4 , 24.84, 26.4 , 23.1 , 20.5 , 21.9 , 13.4 , 13.3 ,\n",
       "       14.8 , 14.4 , 15.2 , 11.8 , 12.9 , 12.4 , 12.9 , 19.8 , 15.4 ,\n",
       "       13.65, 13.6 , 14.  , 18.96, 22.  , 21.  , 25.55, 22.5 , 26.3 ,\n",
       "       22.1 , 26.6 , 27.3 , 13.25, 14.3 , 13.8 , 13.85, 14.3 , 12.2 ,\n",
       "       13.5 , 13.2 , 14.2 , 12.8 , 12.3 , 12.9 , 18.65, 16.15, 18.3 ,\n",
       "       19.45, 22.2 , 26.8 , 11.9 , 12.4 , 12.9 , 12.3 , 18.4 , 23.4 ,\n",
       "       21.3 , 23.4 , 22.6 , 20.8 , 22.3 , 25.8 , 14.6 , 14.8 , 28.1 ,\n",
       "       24.6 , 22.1 , 20.16, 14.8 , 23.8 , 19.73, 11.4 , 20.  , 19.1 ,\n",
       "       16.45, 31.2 , 25.5 , 31.6 , 24.95, 16.1 , 16.  , 17.25, 15.5 ,\n",
       "       13.3 , 13.7 , 14.2 , 13.8 , 28.1 , 27.4 , 25.8 , 31.5 , 31.7 ,\n",
       "       27.6 , 27.4 , 25.4 , 24.1 , 25.2 , 28.9 , 19.39, 18.15, 15.2 ,\n",
       "       15.25, 15.3 , 15.  , 15.2 , 13.95, 17.1 , 16.2 , 15.2 , 17.6 ,\n",
       "       19.95, 19.9 , 14.67, 28.1 , 23.48, 19.7 , 23.2 , 24.6 , 25.6 ,\n",
       "       24.1 , 18.4 , 28.7 , 19.19, 23.4 , 22.9 , 21.46, 24.3 , 32.5 ,\n",
       "       26.8 , 24.5 , 25.35, 26.4 , 27.1 , 16.85, 15.5 , 16.  , 14.65,\n",
       "       21.3 , 21.  , 22.43, 21.95, 29.35, 26.9 , 29.  , 32.5 , 18.8 ,\n",
       "       18.05, 18.4 , 18.29, 29.4 , 31.  , 28.  , 25.7 , 20.2 , 13.3 ,\n",
       "       20.4 , 19.73, 17.05, 14.4 , 14.1 , 13.7 , 13.  , 31.44, 29.74,\n",
       "       35.68, 25.45, 33.25, 17.6 , 16.8 , 16.05, 15.15, 18.02, 20.51,\n",
       "       18.81, 18.25, 15.75, 15.84, 15.7 , 15.64, 31.3 , 24.9 , 27.73,\n",
       "       24.94, 32.73, 33.5 , 30.56, 30.73, 22.2 , 22.2 , 24.24, 41.49,\n",
       "       36.1 , 36.24, 36.27, 36.39, 19.36, 19.17, 18.92, 19.12, 20.4 ,\n",
       "       20.46, 25.46, 20.16, 19.62, 20.69, 20.74, 18.6 , 18.17, 19.05,\n",
       "       17.86, 18.35, 17.3 , 30.88, 26.9 , 27.25, 30.63, 21.74, 23.33,\n",
       "       23.87, 24.61, 20.8 , 17.85, 21.1 , 16.85, 32.25, 31.33, 21.16,\n",
       "       19.94, 24.61, 19.81, 20.69, 17.99, 18.04, 17.92, 18.56, 16.14,\n",
       "       15.8 , 20.95, 18.11, 36.17, 33.61, 35.99, 28.4 , 25.55, 21.87,\n",
       "       28.23, 21.47, 34.18, 35.56, 34.54, 37.72, 28.83, 27.98, 24.71,\n",
       "       32.93, 40.08, 38.03, 32.94, 37.68, 28.08, 25.87, 26.74, 19.38,\n",
       "       34.42, 30.16, 31.  , 34.91, 32.61, 42.17, 27.06, 40.3 , 43.39,\n",
       "       39.17, 31.29, 29.88, 39.52, 33.89, 33.03, 29.39, 27.3 , 33.79,\n",
       "       32.27, 28.9 , 27.36, 26.91, 24.01, 30.84, 38.63, 37.8 , 36.94,\n",
       "       33.07, 36.98, 37.55, 33.45, 37.03, 34.17, 33.3 , 33.3 , 34.42,\n",
       "       32.38, 31.88, 29.94, 28.59, 28.37, 24.9 , 26.26, 21.89, 24.97,\n",
       "       20.64, 19.9 , 28.46, 27.46, 33.7 , 30.7 , 29.92, 27.1 , 24.43,\n",
       "       35.03, 35.66, 33.81, 38.5 , 35.11, 34.56, 35.24, 33.7 , 36.1 ,\n",
       "       34.9 , 36.8 , 26.1 , 30.57, 27.15, 23.89, 30.02, 33.8 , 26.23,\n",
       "       27.19, 41.56, 31.37, 27.66, 29.54])"
      ]
     },
     "execution_count": 48,
     "metadata": {},
     "output_type": "execute_result"
    }
   ],
   "source": [
    "modelReload.predict(data[X])\n"
   ]
  },
  {
   "cell_type": "code",
   "execution_count": 49,
   "metadata": {},
   "outputs": [],
   "source": [
    "temp={}\n",
    "temp['cylinders']=1\n",
    "temp['displacement']=2\n",
    "temp['horsepower']=3\n",
    "temp['weight']=4\n",
    "temp['acceleration']=5\n",
    "temp['model year']=6\n",
    "temp['origin']=1"
   ]
  },
  {
   "cell_type": "code",
   "execution_count": 50,
   "metadata": {},
   "outputs": [],
   "source": [
    "testDtaa=pd.DataFrame({'x':temp}).transpose()\n"
   ]
  },
  {
   "cell_type": "code",
   "execution_count": 51,
   "metadata": {},
   "outputs": [
    {
     "data": {
      "text/plain": [
       "27.0"
      ]
     },
     "execution_count": 51,
     "metadata": {},
     "output_type": "execute_result"
    }
   ],
   "source": [
    "modelReload.predict(testDtaa)[0]\n"
   ]
  },
  {
   "cell_type": "code",
   "execution_count": 52,
   "metadata": {},
   "outputs": [
    {
     "data": {
      "text/html": [
       "<div>\n",
       "<style scoped>\n",
       "    .dataframe tbody tr th:only-of-type {\n",
       "        vertical-align: middle;\n",
       "    }\n",
       "\n",
       "    .dataframe tbody tr th {\n",
       "        vertical-align: top;\n",
       "    }\n",
       "\n",
       "    .dataframe thead th {\n",
       "        text-align: right;\n",
       "    }\n",
       "</style>\n",
       "<table border=\"1\" class=\"dataframe\">\n",
       "  <thead>\n",
       "    <tr style=\"text-align: right;\">\n",
       "      <th></th>\n",
       "      <th>acceleration</th>\n",
       "      <th>cylinders</th>\n",
       "      <th>displacement</th>\n",
       "      <th>horsepower</th>\n",
       "      <th>model year</th>\n",
       "      <th>origin</th>\n",
       "      <th>weight</th>\n",
       "    </tr>\n",
       "  </thead>\n",
       "  <tbody>\n",
       "    <tr>\n",
       "      <td>x</td>\n",
       "      <td>5</td>\n",
       "      <td>1</td>\n",
       "      <td>2</td>\n",
       "      <td>3</td>\n",
       "      <td>6</td>\n",
       "      <td>1</td>\n",
       "      <td>4</td>\n",
       "    </tr>\n",
       "  </tbody>\n",
       "</table>\n",
       "</div>"
      ],
      "text/plain": [
       "   acceleration  cylinders  displacement  horsepower  model year  origin  \\\n",
       "x             5          1             2           3           6       1   \n",
       "\n",
       "   weight  \n",
       "x       4  "
      ]
     },
     "execution_count": 52,
     "metadata": {},
     "output_type": "execute_result"
    }
   ],
   "source": [
    "testDtaa"
   ]
  },
  {
   "cell_type": "code",
   "execution_count": null,
   "metadata": {},
   "outputs": [],
   "source": []
  }
 ],
 "metadata": {
  "kernelspec": {
   "display_name": "Python 3",
   "language": "python",
   "name": "python3"
  },
  "language_info": {
   "codemirror_mode": {
    "name": "ipython",
    "version": 3
   },
   "file_extension": ".py",
   "mimetype": "text/x-python",
   "name": "python",
   "nbconvert_exporter": "python",
   "pygments_lexer": "ipython3",
   "version": "3.7.4"
  }
 },
 "nbformat": 4,
 "nbformat_minor": 2
}
